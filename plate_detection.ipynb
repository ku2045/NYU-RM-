{
 "cells": [
  {
   "cell_type": "code",
   "execution_count": 16,
   "id": "e0539a3d",
   "metadata": {},
   "outputs": [],
   "source": [
    "import cv2\n",
    "import numpy as np\n",
    "import torch"
   ]
  },
  {
   "cell_type": "code",
   "execution_count": 17,
   "id": "49499f40",
   "metadata": {},
   "outputs": [],
   "source": [
    "# Define range of blue color in HSV\n",
    "lower_blue = np.array([110,50,50])\n",
    "upper_blue = np.array([130,255,255])"
   ]
  },
  {
   "cell_type": "code",
   "execution_count": 18,
   "id": "aac2ba9d",
   "metadata": {},
   "outputs": [],
   "source": [
    "path = \"C:\\\\Users\\\\ukart\\\\Desktop\\\\Robomasters\\\\rmtest.mp4\"\n",
    "model_path = \"C:\\\\Users\\\\ukart\\\\Desktop\\\\Robomasters\\\\best.pt\""
   ]
  },
  {
   "cell_type": "code",
   "execution_count": 19,
   "id": "96f1ff7a",
   "metadata": {},
   "outputs": [],
   "source": [
    "def disp_image(im):\n",
    "    cv2.imshow(\"image\",im)\n",
    "    cv2.waitKey(0)\n",
    "    cv2.destroyAllWindows()"
   ]
  },
  {
   "cell_type": "code",
   "execution_count": 20,
   "id": "5eefed28",
   "metadata": {},
   "outputs": [],
   "source": [
    "def blue_plate_detection(frame):\n",
    "    \n",
    "    frame = cv2.GaussianBlur(frame,(5,5),0)\n",
    "    \n",
    "    hsv = cv2.cvtColor(frame, cv2.COLOR_BGR2HSV)\n",
    "    \n",
    "    # Create a binary image for blue color\n",
    "    mask = cv2.inRange(hsv, lower_blue, upper_blue)\n",
    "        \n",
    "    # Remove noise\n",
    "    mask = cv2.erode(mask, None, iterations=2)\n",
    "    mask = cv2.dilate(mask, None, iterations=2)\n",
    "    \n",
    "    # Find contours \n",
    "    contours, hierarchy = cv2.findContours(mask, cv2.RETR_TREE, cv2.CHAIN_APPROX_SIMPLE)\n",
    "    \n",
    "    # Draw contours \n",
    "    for contour in contours:\n",
    "        x,y,w,h = cv2.boundingRect(contour)\n",
    "        cv2.rectangle(frame, (x,y), (x+w, y+h), (0,255,0), 2)\n",
    "        \n",
    "    return frame"
   ]
  },
  {
   "cell_type": "markdown",
   "id": "f81860b2",
   "metadata": {},
   "source": [
    "## Sample frame output"
   ]
  },
  {
   "cell_type": "code",
   "execution_count": 21,
   "id": "2fe63d79",
   "metadata": {},
   "outputs": [],
   "source": [
    "# Load the video source\n",
    "cap = cv2.VideoCapture(path)\n",
    "cap.set(1, 600)\n",
    "ret, frame = cap.read()\n",
    "\n",
    "disp_image(blue_plate_detection(frame))"
   ]
  },
  {
   "cell_type": "code",
   "execution_count": 22,
   "id": "0456bb59",
   "metadata": {},
   "outputs": [],
   "source": [
    "cap.release()\n",
    "cv2.destroyAllWindows()"
   ]
  },
  {
   "cell_type": "code",
   "execution_count": null,
   "id": "2388afd0",
   "metadata": {},
   "outputs": [],
   "source": []
  },
  {
   "cell_type": "markdown",
   "id": "6e03db77",
   "metadata": {},
   "source": [
    "## Rewrite - Yolo"
   ]
  },
  {
   "cell_type": "code",
   "execution_count": 45,
   "id": "81481071",
   "metadata": {},
   "outputs": [],
   "source": [
    "class Capture:\n",
    "    # Constructor with depth camera\n",
    "    def __init__(self, path):\n",
    "        self.vidpath = path\n",
    "        self.load_model()\n",
    "        self.res = None\n",
    "\n",
    "    \n",
    "\n",
    "    def init_camera(self):\n",
    "        if self.vidpath:\n",
    "            self.cap = cv2.VideoCapture(path)\n",
    "        else:\n",
    "            self.cap = cv2.VideoCapture(0)\n",
    "            \n",
    "\n",
    "   \n",
    "    def vid_capture(self, yolo=False):\n",
    "        self.init_camera()\n",
    "        \n",
    "       \n",
    "        while True:\n",
    "            ret, frame = self.cap.read()\n",
    "            if not ret:\n",
    "                break\n",
    "            \n",
    "            if self.res == None:\n",
    "                self.res = list((frame.shape[:2]))\n",
    "                self.res.reverse()\n",
    "                \n",
    "            if yolo == True:\n",
    "                im = self.yolo_pipeline(frame)\n",
    "            else:\n",
    "                im = self.cv_pipeline(frame)\n",
    "            \n",
    "            # Display the output\n",
    "            cv2.imshow(\"Video\", im)\n",
    "            if cv2.waitKey(1) & 0xFF == ord('q'):\n",
    "                cv2.destroyAllWindows()\n",
    "                break\n",
    "\n",
    "        self.cap.release()\n",
    "        cv2.destroyAllWindows()\n",
    "        \n",
    "    def load_model(self):\n",
    "        self.model = torch.hub.load('ultralytics/yolov5', 'custom',path=model_path)\n",
    "      \n",
    "\n",
    "    # Process a color frame\n",
    "    def cv_pipeline(self, frame):\n",
    "         \n",
    "        frame = cv2.GaussianBlur(frame,(5,5),0)\n",
    "\n",
    "        hsv = cv2.cvtColor(frame, cv2.COLOR_BGR2HSV)\n",
    "\n",
    "        # Create a binary image for blue color\n",
    "        mask = cv2.inRange(hsv, lower_blue, upper_blue)\n",
    "\n",
    "        # Remove noise\n",
    "        mask = cv2.erode(mask, None, iterations=2)\n",
    "        mask = cv2.dilate(mask, None, iterations=2)\n",
    "\n",
    "        # Find contours \n",
    "        contours, hierarchy = cv2.findContours(mask, cv2.RETR_TREE, cv2.CHAIN_APPROX_SIMPLE)\n",
    "\n",
    "        # Draw contours \n",
    "        for contour in contours:\n",
    "            x,y,w,h = cv2.boundingRect(contour)\n",
    "            cv2.rectangle(frame, (x,y), (x+w, y+h), (0,255,0), 2)\n",
    "\n",
    "        return frame\n",
    "    \n",
    "    def get_offset(self,x,y):\n",
    "        \n",
    "        res = self.res\n",
    "        # calculate the center of the image\n",
    "        img_cx = res[0] / 2\n",
    "        img_cy = res[1] / 2\n",
    "\n",
    "        # calculate the horizontal and vertical angles from the center of the image\n",
    "        horizontal_angle = ((x - img_cx) / res[0]) * res[0]\n",
    "        vertical_angle = ((y - img_cy) / res[1]) * res[1]\n",
    "        \n",
    "        return horizontal_angle, vertical_angle\n",
    "        \n",
    "    \n",
    "    def yolo_pipeline(self, frame):\n",
    "               \n",
    "        results = self.model(frame)\n",
    "        detections_rows = results.pandas().xyxy\n",
    "        \n",
    "        max_area = 0\n",
    "        nearest_idx = -1\n",
    "        rows = []\n",
    "        for i in range(len(detections_rows)):\n",
    "            rows = detections_rows[i].to_numpy()\n",
    "            if(len(rows)) > 0 :\n",
    "                x_min, y_min, x_max, y_max, conf, cls, label = rows[i]\n",
    "                if conf < 0.5:\n",
    "                    continue\n",
    "                if (x_max-x_min)*(y_max-y_min) > max_area:\n",
    "                    nearest_idx = i\n",
    "                    max_area = (x_max-x_min)*(y_max-y_min)\n",
    "\n",
    "\n",
    "            if nearest_idx != -1 and len(rows) > 0:\n",
    "                x_min, y_min, x_max, y_max, conf, cls, label = rows[nearest_idx]                            \n",
    "                ang_x, ang_y = self.get_offset( int((x_min+x_max)/2), int((y_min+y_max)/2) )\n",
    "                label_conf = label + \" \" + str(round(conf,2)) + \"|\" + str(round(ang_x,2)) + \",\" + str(round(ang_y,2))\n",
    "\n",
    "                cv2.rectangle(frame, (int(x_min), int(y_min)), (int(x_max), int(y_max)), (0, 255, 0), 2)\n",
    "                cv2.putText(frame, label_conf, (int(x_min), int(y_min)), cv2.FONT_HERSHEY_SIMPLEX, 1, (0, 255, 0), 2, cv2.LINE_AA)\n",
    "                \n",
    "        return frame\n",
    "\n",
    "\n",
    "\n"
   ]
  },
  {
   "cell_type": "code",
   "execution_count": 46,
   "id": "d0191297",
   "metadata": {},
   "outputs": [
    {
     "name": "stderr",
     "output_type": "stream",
     "text": [
      "Using cache found in C:\\Users\\ukart/.cache\\torch\\hub\\ultralytics_yolov5_master\n",
      "YOLOv5  2023-2-6 Python-3.9.7 torch-1.8.0 CUDA:0 (NVIDIA GeForce GTX 1660 Ti, 6144MiB)\n",
      "\n",
      "Fusing layers... \n",
      "Model summary: 213 layers, 1760518 parameters, 0 gradients, 4.2 GFLOPs\n",
      "Adding AutoShape... \n"
     ]
    }
   ],
   "source": [
    "cam = Capture(path)"
   ]
  },
  {
   "cell_type": "code",
   "execution_count": 47,
   "id": "a6e87011",
   "metadata": {},
   "outputs": [],
   "source": [
    "# cam.vid_capture()"
   ]
  },
  {
   "cell_type": "code",
   "execution_count": 50,
   "id": "3d877fb2",
   "metadata": {},
   "outputs": [],
   "source": [
    "cam.vid_capture(yolo=True)"
   ]
  },
  {
   "cell_type": "code",
   "execution_count": null,
   "id": "f279a5e2",
   "metadata": {},
   "outputs": [],
   "source": []
  }
 ],
 "metadata": {
  "kernelspec": {
   "display_name": "Python 3 (ipykernel)",
   "language": "python",
   "name": "python3"
  },
  "language_info": {
   "codemirror_mode": {
    "name": "ipython",
    "version": 3
   },
   "file_extension": ".py",
   "mimetype": "text/x-python",
   "name": "python",
   "nbconvert_exporter": "python",
   "pygments_lexer": "ipython3",
   "version": "3.9.7"
  }
 },
 "nbformat": 4,
 "nbformat_minor": 5
}
